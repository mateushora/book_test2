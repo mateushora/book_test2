{
 "cells": [
  {
   "cell_type": "markdown",
   "metadata": {},
   "source": [
    "(geral)= \n",
    "\n",
    "# General Sanity\n",
    "## Relatório geral\n",
    "\n",
    "<pre>\n",
    "+------------------------+----------+\n",
    "|                        |   Values |\n",
    "+========================+==========+\n",
    "| Number of variables    |       36 |\n",
    "+------------------------+----------+\n",
    "| Number of observations |   379181 |\n",
    "+------------------------+----------+\n",
    "| Number duplicated      |    45267 |\n",
    "+------------------------+----------+\n",
    "| Number disregard       |        1 |\n",
    "+------------------------+----------+\n",
    "| category               |       22 |\n",
    "+------------------------+----------+\n",
    "| date                   |        8 |\n",
    "+------------------------+----------+\n",
    "| numeric                |        3 |\n",
    "+------------------------+----------+\n",
    "| text                   |        3 |\n",
    "+------------------------+----------+\n",
    "</pre>"
   ]
  }
 ],
 "metadata": {
  "jupytext": {
   "text_representation": {
    "extension": ".md",
    "format_name": "myst"
   }
  },
  "kernelspec": {
   "display_name": "Python 3",
   "language": "python",
   "name": "python3"
  },
  "language_info": {
   "codemirror_mode": {
    "name": "ipython",
    "version": 3
   },
   "file_extension": ".py",
   "mimetype": "text/x-python",
   "name": "python",
   "nbconvert_exporter": "python",
   "pygments_lexer": "ipython3",
   "version": "3.8.5"
  },
  "source_map": [
   10
  ]
 },
 "nbformat": 4,
 "nbformat_minor": 4
}