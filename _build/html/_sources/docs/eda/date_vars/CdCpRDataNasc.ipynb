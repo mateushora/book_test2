{
 "cells": [
  {
   "cell_type": "markdown",
   "metadata": {},
   "source": [
    "(CdCpRDataNasc)= \n",
    "\n",
    "# CdCpRDataNasc\n",
    "Tipo da variável: date\n",
    "## Relatório geral\n",
    "\n",
    "<pre>\n",
    "+--------------+---------------------+\n",
    "|              | Values              |\n",
    "+==============+=====================+\n",
    "| Count        | 379181              |\n",
    "+--------------+---------------------+\n",
    "| Unique Month | 1016                |\n",
    "+--------------+---------------------+\n",
    "| Unique Year  | 93                  |\n",
    "+--------------+---------------------+\n",
    "| First Date   | 1903-05-25 00:00:00 |\n",
    "+--------------+---------------------+\n",
    "| Last Date    | 2001-11-26 00:00:00 |\n",
    "+--------------+---------------------+\n",
    "| Range        | 35980 days 00:00:00 |\n",
    "+--------------+---------------------+\n",
    "| Na's         | 6                   |\n",
    "+--------------+---------------------+\n",
    "| Period       |                     |\n",
    "+--------------+---------------------+\n",
    "</pre>"
   ]
  }
 ],
 "metadata": {
  "jupytext": {
   "text_representation": {
    "extension": ".md",
    "format_name": "myst"
   }
  },
  "kernelspec": {
   "display_name": "Python 3",
   "language": "python",
   "name": "python3"
  },
  "language_info": {
   "codemirror_mode": {
    "name": "ipython",
    "version": 3
   },
   "file_extension": ".py",
   "mimetype": "text/x-python",
   "name": "python",
   "nbconvert_exporter": "python",
   "pygments_lexer": "ipython3",
   "version": "3.8.5"
  },
  "source_map": [
   10
  ]
 },
 "nbformat": 4,
 "nbformat_minor": 4
}