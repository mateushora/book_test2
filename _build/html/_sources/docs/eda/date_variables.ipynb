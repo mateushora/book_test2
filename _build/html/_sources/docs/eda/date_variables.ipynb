{
 "cells": [
  {
   "cell_type": "markdown",
   "metadata": {},
   "source": [
    "(date_variables)= \n",
    "\n",
    "# Variáveis de Data\n",
    "## Relatório geral\n",
    "\n",
    "<pre>\n",
    "+----+----------------------+-----------------------+-----------------------------+\n",
    "|    | Nome Feature         |   Qtde Missing Values |   Proportion Missing Values |\n",
    "+====+======================+=======================+=============================+\n",
    "| 12 | CdCpRCarencia        |                376912 |                       99.4  |\n",
    "+----+----------------------+-----------------------+-----------------------------+\n",
    "| 32 | DataObito            |                373428 |                       98.48 |\n",
    "+----+----------------------+-----------------------+-----------------------------+\n",
    "| 31 | DataAtualizacaoObito |                373428 |                       98.48 |\n",
    "+----+----------------------+-----------------------+-----------------------------+\n",
    "| 17 | CdCpRDtDel           |                364114 |                       96.03 |\n",
    "+----+----------------------+-----------------------+-----------------------------+\n",
    "| 16 | CdCpRDtUpd           |                  6708 |                        1.77 |\n",
    "+----+----------------------+-----------------------+-----------------------------+\n",
    "| 15 | CdCpRDtInc           |                   101 |                        0.03 |\n",
    "+----+----------------------+-----------------------+-----------------------------+\n",
    "|  6 | CdCpRDataNasc        |                     6 |                        0    |\n",
    "+----+----------------------+-----------------------+-----------------------------+\n",
    "| 13 | CdCpRDataRenda       |                     1 |                        0    |\n",
    "+----+----------------------+-----------------------+-----------------------------+\n",
    "</pre>\n",
    "\n",
    "\n",
    "\n",
    "\n",
    "```{toctree}\n",
    ":hidden:\n",
    ":titlesonly:\n",
    "\n",
    "\n",
    "date_vars/CdCpRDataNasc\n",
    "date_vars/CdCpRCarencia\n",
    "date_vars/CdCpRDataRenda\n",
    "date_vars/CdCpRDtInc\n",
    "date_vars/CdCpRDtUpd\n",
    "date_vars/CdCpRDtDel\n",
    "date_vars/DataAtualizacaoObito\n",
    "date_vars/DataObito\n",
    "```"
   ]
  }
 ],
 "metadata": {
  "jupytext": {
   "text_representation": {
    "extension": ".md",
    "format_name": "myst"
   }
  },
  "kernelspec": {
   "display_name": "Python 3",
   "language": "python",
   "name": "python3"
  },
  "language_info": {
   "codemirror_mode": {
    "name": "ipython",
    "version": 3
   },
   "file_extension": ".py",
   "mimetype": "text/x-python",
   "name": "python",
   "nbconvert_exporter": "python",
   "pygments_lexer": "ipython3",
   "version": "3.8.5"
  },
  "source_map": [
   10
  ]
 },
 "nbformat": 4,
 "nbformat_minor": 4
}