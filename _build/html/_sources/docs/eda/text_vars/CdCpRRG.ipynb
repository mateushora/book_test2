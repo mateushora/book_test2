{
 "cells": [
  {
   "cell_type": "markdown",
   "metadata": {},
   "source": [
    "(CdCpRRG)= \n",
    "\n",
    "# CdCpRRG\n",
    "Tipo da variável: text\n",
    "## Relatório geral\n",
    "\n",
    "<pre>\n",
    "+-------+----------+\n",
    "|       |   Values |\n",
    "+=======+==========+\n",
    "| Count |   379181 |\n",
    "+-------+----------+\n",
    "| Na's  |        0 |\n",
    "+-------+----------+\n",
    "</pre>\n",
    "\n",
    "\n",
    "\n",
    "## Análise Univariada\n",
    "\n",
    "\n",
    "\n",
    "\n",
    "```{figure} ../../../assets/img/CdCpRRG/CdCpRRG.png\n",
    ":name: CdCpRRG_img\n",
    "```"
   ]
  }
 ],
 "metadata": {
  "jupytext": {
   "text_representation": {
    "extension": ".md",
    "format_name": "myst"
   }
  },
  "kernelspec": {
   "display_name": "Python 3",
   "language": "python",
   "name": "python3"
  },
  "language_info": {
   "codemirror_mode": {
    "name": "ipython",
    "version": 3
   },
   "file_extension": ".py",
   "mimetype": "text/x-python",
   "name": "python",
   "nbconvert_exporter": "python",
   "pygments_lexer": "ipython3",
   "version": "3.8.5"
  },
  "source_map": [
   10
  ]
 },
 "nbformat": 4,
 "nbformat_minor": 4
}