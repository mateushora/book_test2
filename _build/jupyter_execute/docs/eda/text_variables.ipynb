{
 "cells": [
  {
   "cell_type": "markdown",
   "metadata": {},
   "source": [
    "(text_variables)= \n",
    "\n",
    "# Variáveis de Texto\n",
    "## Relatório geral\n",
    "\n",
    "<pre>\n",
    "+----+------------------+-----------------------+-----------------------------+\n",
    "|    | Nome Feature     |   Qtde Missing Values |   Proportion Missing Values |\n",
    "+====+==================+=======================+=============================+\n",
    "| 24 | CdCpRNomeConjuge |                247812 |                       65.35 |\n",
    "+----+------------------+-----------------------+-----------------------------+\n",
    "|  4 | CdCpRRG          |                     0 |                        0    |\n",
    "+----+------------------+-----------------------+-----------------------------+\n",
    "|  2 | CdCpRNome        |                     0 |                        0    |\n",
    "+----+------------------+-----------------------+-----------------------------+\n",
    "</pre>\n",
    "\n",
    "\n",
    "\n",
    "\n",
    "```{toctree}\n",
    ":hidden:\n",
    ":titlesonly:\n",
    "\n",
    "\n",
    "text_vars/CdCpRNome\n",
    "text_vars/CdCpRRG\n",
    "text_vars/CdCpRNomeConjuge\n",
    "```"
   ]
  }
 ],
 "metadata": {
  "jupytext": {
   "text_representation": {
    "extension": ".md",
    "format_name": "myst"
   }
  },
  "kernelspec": {
   "display_name": "Python 3",
   "language": "python",
   "name": "python3"
  },
  "language_info": {
   "codemirror_mode": {
    "name": "ipython",
    "version": 3
   },
   "file_extension": ".py",
   "mimetype": "text/x-python",
   "name": "python",
   "nbconvert_exporter": "python",
   "pygments_lexer": "ipython3",
   "version": "3.8.5"
  },
  "source_map": [
   10
  ]
 },
 "nbformat": 4,
 "nbformat_minor": 4
}