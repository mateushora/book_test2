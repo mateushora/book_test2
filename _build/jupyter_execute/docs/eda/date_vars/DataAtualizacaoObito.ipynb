{
 "cells": [
  {
   "cell_type": "markdown",
   "metadata": {},
   "source": [
    "(DataAtualizacaoObito)= \n",
    "\n",
    "# DataAtualizacaoObito\n",
    "Tipo da variável: date\n",
    "## Relatório geral\n",
    "\n",
    "<pre>\n",
    "+--------------+---------------------+\n",
    "|              | Values              |\n",
    "+==============+=====================+\n",
    "| Count        | 379181              |\n",
    "+--------------+---------------------+\n",
    "| Unique Month | 19                  |\n",
    "+--------------+---------------------+\n",
    "| Unique Year  | 3                   |\n",
    "+--------------+---------------------+\n",
    "| First Date   | 2018-04-26 00:00:00 |\n",
    "+--------------+---------------------+\n",
    "| Last Date    | 2020-04-23 00:00:00 |\n",
    "+--------------+---------------------+\n",
    "| Range        | 728 days 00:00:00   |\n",
    "+--------------+---------------------+\n",
    "| Na's         | 373428              |\n",
    "+--------------+---------------------+\n",
    "| Period       |                     |\n",
    "+--------------+---------------------+\n",
    "</pre>"
   ]
  }
 ],
 "metadata": {
  "jupytext": {
   "text_representation": {
    "extension": ".md",
    "format_name": "myst"
   }
  },
  "kernelspec": {
   "display_name": "Python 3",
   "language": "python",
   "name": "python3"
  },
  "language_info": {
   "codemirror_mode": {
    "name": "ipython",
    "version": 3
   },
   "file_extension": ".py",
   "mimetype": "text/x-python",
   "name": "python",
   "nbconvert_exporter": "python",
   "pygments_lexer": "ipython3",
   "version": "3.8.5"
  },
  "source_map": [
   10
  ]
 },
 "nbformat": 4,
 "nbformat_minor": 4
}