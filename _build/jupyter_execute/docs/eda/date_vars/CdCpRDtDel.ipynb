{
 "cells": [
  {
   "cell_type": "markdown",
   "metadata": {},
   "source": [
    "(CdCpRDtDel)= \n",
    "\n",
    "# CdCpRDtDel\n",
    "Tipo da variável: date\n",
    "## Relatório geral\n",
    "\n",
    "<pre>\n",
    "+--------------+---------------------+\n",
    "|              | Values              |\n",
    "+==============+=====================+\n",
    "| Count        | 379181              |\n",
    "+--------------+---------------------+\n",
    "| Unique Month | 45                  |\n",
    "+--------------+---------------------+\n",
    "| Unique Year  | 5                   |\n",
    "+--------------+---------------------+\n",
    "| First Date   | 2016-09-14 17:23:00 |\n",
    "+--------------+---------------------+\n",
    "| Last Date    | 2020-06-16 06:04:00 |\n",
    "+--------------+---------------------+\n",
    "| Range        | 1370 days 12:41:00  |\n",
    "+--------------+---------------------+\n",
    "| Na's         | 364114              |\n",
    "+--------------+---------------------+\n",
    "| Period       |                     |\n",
    "+--------------+---------------------+\n",
    "</pre>"
   ]
  }
 ],
 "metadata": {
  "jupytext": {
   "text_representation": {
    "extension": ".md",
    "format_name": "myst"
   }
  },
  "kernelspec": {
   "display_name": "Python 3",
   "language": "python",
   "name": "python3"
  },
  "language_info": {
   "codemirror_mode": {
    "name": "ipython",
    "version": 3
   },
   "file_extension": ".py",
   "mimetype": "text/x-python",
   "name": "python",
   "nbconvert_exporter": "python",
   "pygments_lexer": "ipython3",
   "version": "3.8.5"
  },
  "source_map": [
   10
  ]
 },
 "nbformat": 4,
 "nbformat_minor": 4
}